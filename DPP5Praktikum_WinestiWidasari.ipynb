{
 "cells": [
  {
   "cell_type": "markdown",
   "metadata": {
    "id": "RoyaTVHqUB9g"
   },
   "source": [
    "inputoutputstring"
   ]
  },
  {
   "cell_type": "markdown",
   "metadata": {
    "deletable": false,
    "editable": false,
    "id": "Ra5L6LVen_2H"
   },
   "source": [
    "<h1>Input</h1>\n",
    "\n",
    "Input terdiri dari 2 jenis yaitu\n",
    "<ol>\n",
    "    <li>Statis (Hardcode)</li>\n",
    "    <li>Dinamis</li>\n",
    "</ol>\n",
    "        \n",
    "Input secara statis adalah memberikan nilai kepada variabel secara langsung pada kode program<br>\n",
    "Misal:\n",
    "```python\n",
    "hari = \"Minggu\"\n",
    "tanggal = 21\n",
    "bulan = \"Oktober\"\n",
    "tahun = \"2021\"\n",
    "```\n",
    "Sedangkan input secara dinamis yaitu program menunggu input dari user dimana kursor akan menjadi mode teks dan berkedip-kedip. Input secara dinamis menggunakan fungsi <b>input(s)</b> dimana <b>s</b> adalah string label sebagai keterangan. Berikut ini adalah contoh input dinamis\n",
    "```python\n",
    "matakuliah_1 = input('Mata kuliah 1 yang diambil : ')\n",
    "matakuliah_2 = input('Mata kuliah 2 yang diambil : ')\n",
    "print(f\"Anda mengambil mata kuliah  {matakuliah_1} dan {matakuliah_2}\")\n",
    "```\n",
    "<h3>Latihan</h3>\n",
    "<ol>\n",
    "    <li>Buatlah variabel dengan nama hobi, yang digunakan untuk menampung input dari user dengan label \"Hobi kamu apa? : \" , kemudian Cetaklah dengan label <b>Hobi kamu : {hobi}</b></li>\n",
    "    <li>Buatlah variabel nama, yang digunakan untuk menampung input dari user dengan label \"Siapa nama kamu? : \" , misal user mengisikan nama \"Romi\" maka akan tampil output <b>Nama kamu berawalan huruf R</b></li>\n",
    "</ol>"
   ]
  },
  {
   "cell_type": "markdown",
   "metadata": {
    "id": "yNkwDbMCFbWl"
   },
   "source": [
    "# New Section"
   ]
  },
  {
   "cell_type": "code",
   "execution_count": 1,
   "metadata": {
    "colab": {
     "base_uri": "https://localhost:8080/"
    },
    "id": "rrS54OmYn_2M",
    "outputId": "1931a042-9698-4a33-d94d-43819967505a"
   },
   "outputs": [
    {
     "name": "stdout",
     "output_type": "stream",
     "text": [
      "Hobi kamu apa? :Membaca Buku\n",
      "Hobi kamu Membaca Buku\n"
     ]
    }
   ],
   "source": [
    "#Code here\n",
    "hobi = input('Hobi kamu apa? :')\n",
    "print(f\"Hobi kamu {hobi}\")"
   ]
  },
  {
   "cell_type": "code",
   "execution_count": 2,
   "metadata": {
    "colab": {
     "base_uri": "https://localhost:8080/"
    },
    "id": "VzSlsWHHpZLG",
    "outputId": "2166fc5a-56af-459a-f9e0-4df19b8ad867"
   },
   "outputs": [
    {
     "name": "stdout",
     "output_type": "stream",
     "text": [
      "Siapa nama kamu :Winesti Widasari\n",
      "Nama kamu berawalan huruf W\n"
     ]
    }
   ],
   "source": [
    "#code here\n",
    "nama = input('Siapa nama kamu :')\n",
    "print(f\"Nama kamu berawalan huruf {nama[0]}\")"
   ]
  },
  {
   "cell_type": "markdown",
   "metadata": {
    "id": "7KNN5tK3n_2N"
   },
   "source": [
    "<details>\n",
    "    <summary><font color=\"red\">Click Here </font> to See the Answer No.1</summary>\n",
    "\n",
    "Jawaban No. 1\n",
    "    \n",
    "```python\n",
    "hobi = input('Hobi kamu apa? :')\n",
    "print(f\"Hobi kamu {hobi}\")\n",
    "```\n",
    "</details>"
   ]
  },
  {
   "cell_type": "markdown",
   "metadata": {
    "id": "HzEpJtCRn_2O"
   },
   "source": [
    "<details>\n",
    "    <summary><font color=\"red\">Click Here </font> to See the Answer No.2</summary>\n",
    "\n",
    "Jawaban No. 2\n",
    "    \n",
    "```python\n",
    "nama = input('Siapa nama kamu :')\n",
    "print(f\"Nama kamu berawalan huruf {nama[0]}\")\n",
    "```\n",
    "</details>"
   ]
  },
  {
   "cell_type": "markdown",
   "metadata": {
    "id": "WVjZZMS_n_2P"
   },
   "source": [
    "<h1>Random Bilangan</h1>\n",
    "\n",
    "Nilai Random adalah sebuah nilai acak yang dibangkitkan dari pseudocode acak, tapi hal tersebut tidak benar-benar acak. bagaimana mungkin mendapatkan nilai acak, jika masih menggunakan alur program. Random pada python dapat menghasilkan nilai berupa integer, float maupun string.\n",
    "Untuk membuat Random value maka dapat menggunakan fungsi <b>random</b>. Sebelum fungsi <b>random</b> digunakan, maka terlebih dahulu harus melakukan import library. Perhatikan contoh berikut ini:\n",
    "\n",
    "<h3>Random Float</h3>\n",
    "\n",
    "```python\n",
    "# mengimport library random\n",
    "from random import random\n",
    "# mengacak bilangan float\n",
    "nilai = random()\n",
    "# mencetak bilangan random\n",
    "print(nilai)\n",
    "```\n",
    "\n",
    "<h3>Random Integer</h3>\n",
    "\n",
    "```python\n",
    "# mengimport library random\n",
    "from random import randint\n",
    "# mengacak bilangan integer dengan range 0-10\n",
    "nilai = randint(0,10)\n",
    "# mencetak bilangan random\n",
    "print(nilai)\n",
    "```\n",
    "<h3>Random Choice</h3>\n",
    "\n",
    "```python\n",
    "from random import choice\n",
    " \n",
    "# list of month\n",
    "bulan = [\"Jan\", \"Feb\", \"Mar\", \"Apr\", \"May\",\"Jun\",\"Jul\",\"Aug\",\"Sep\",\"Oct\",\"Nov\",\"Des\"]\n",
    " \n",
    "# memilih dari list scr acak\n",
    "pilih_bulan = choice(bulan)\n",
    "print(pilih_bulan)\n",
    "```\n",
    "\n",
    "<h3>Latihan</h3>\n",
    "\n",
    "<ol>\n",
    "    <li>Buatlah program tebak hasil dari perkalian dari 2 angka dari 0 sampai 100, jika user menjawab benar maka tampil <b>Jawaban anda True</b> dan jika salah, maka akan tampil <b>Jawaban anda False</b></li>\n",
    "</ol>"
   ]
  },
  {
   "cell_type": "code",
   "execution_count": 3,
   "metadata": {
    "colab": {
     "base_uri": "https://localhost:8080/"
    },
    "id": "ODKL35RA9NXw",
    "outputId": "fa3cdf29-f5fd-4fd4-db66-d2566a9b844d"
   },
   "outputs": [
    {
     "name": "stdout",
     "output_type": "stream",
     "text": [
      "Berapa hasil perkalian dari 97 dan 1 ? = 97\n",
      "Jawaban anda True\n"
     ]
    }
   ],
   "source": [
    "#Code Here\n",
    "from random import randint\n",
    "\n",
    "nilai1 = randint(0,100)\n",
    "nilai2 = randint(0,100)\n",
    "hasil = nilai1 * nilai2\n",
    "\n",
    "jawab = int(input(\"Berapa hasil perkalian dari {} dan {} ? = \".format(nilai1,nilai2)))\n",
    "print(\"Jawaban anda {}\".format(jawab==hasil))"
   ]
  },
  {
   "cell_type": "code",
   "execution_count": 4,
   "metadata": {
    "colab": {
     "base_uri": "https://localhost:8080/"
    },
    "id": "9v0F2126n_2P",
    "outputId": "8fde0178-ac2b-4e7e-b5ab-d4eae7fe5a3c"
   },
   "outputs": [
    {
     "name": "stdout",
     "output_type": "stream",
     "text": [
      "Berapakah hasil perkalian 64 dan 66 : 1245\n",
      "Jawaban anda False\n"
     ]
    }
   ],
   "source": [
    "#Random Bilangan\n",
    "...\n",
    "from random import randint\n",
    "angka_1 = randint(0,100)\n",
    "angka_2 = randint(0,100)\n",
    "\n",
    "hasil = int(input(f\"Berapakah hasil perkalian {angka_1} dan {angka_2} : \"))\n",
    "print(f\"Jawaban anda {hasil==angka_1 * angka_2}\")"
   ]
  },
  {
   "cell_type": "markdown",
   "metadata": {
    "id": "i758umhO9jvV"
   },
   "source": [
    "# New Section"
   ]
  },
  {
   "cell_type": "markdown",
   "metadata": {
    "id": "HmxqT0mg_lcj"
   },
   "source": [
    "# New Section"
   ]
  },
  {
   "cell_type": "markdown",
   "metadata": {
    "id": "3_bILnJ9_mRB"
   },
   "source": [
    "# New Section"
   ]
  },
  {
   "cell_type": "markdown",
   "metadata": {
    "id": "yuL8K1Cyn_2S"
   },
   "source": [
    "<h1>String</h1>\n",
    "String adalah kumpulan dari beberapa karakter. String dibuat dengan tanda petik tunggal (') atau ganda (\")\n",
    "Contoh:\n",
    "\n",
    "```python\n",
    "kota ='Surabaya'\n",
    "provinsi ='Jawa Timur'\n",
    "```\n",
    "Karena string tersusun dari kumpulan karakter, maka string dapat diambil per karakternya menggunakan index yang diapit oleh kurung siku [] atau dengan range [indeks-awal:indeks-akhir]\n",
    "Contoh:\n",
    "```python\n",
    "kalimat = 'Apa kabar semua hari ini?'\n",
    "print(kalimat[0]) #A\n",
    "print(kalimat[1]) #p\n",
    "print(kalimat[0:3]) #Apa\n",
    "print(kalimat[4:9]) #kabar\n",
    "print(kalimat[:-10]) #Apa kabar semua\n",
    "print(kalimat[-9:]) #hari ini?\n",
    "print(kalimat[-15:-5]) #semua hari\n",
    "```\n",
    "<h3>Latihan</h3>\n",
    "Jika terdapat sebuah string <b>Belajar Pemrograman Python</b> Maka tampilkan <b>output</b> berikut ini menggunakan fungsi <b>print</b><br>\n",
    "<ol>\n",
    "    <li>Belajar</li>\n",
    "    <li>ajar</li>\n",
    "    <li>Pemrograman</li>\n",
    "    <li>gram</li>\n",
    "    <li>Python</li>\n",
    "    <li>Py</li>\n",
    "    <li>gram Python</li>\n",
    "    <li>Pemrograman Python</li>\n",
    "</ol>\n"
   ]
  },
  {
   "cell_type": "code",
   "execution_count": 5,
   "metadata": {
    "colab": {
     "base_uri": "https://localhost:8080/"
    },
    "id": "HcnGSRhtn_2R",
    "outputId": "933d160c-f1eb-47de-86f6-29f2d1314d6f"
   },
   "outputs": [
    {
     "name": "stdout",
     "output_type": "stream",
     "text": [
      "lukas😀maxi😀nicolaus\n",
      "😇\n"
     ]
    }
   ],
   "source": [
    "#Code here\n",
    "print('lukas','maxi','nicolaus',sep='\\U0001F600')\n",
    "print(\"\\N{smiling face with halo}\")"
   ]
  },
  {
   "cell_type": "code",
   "execution_count": 6,
   "metadata": {
    "colab": {
     "base_uri": "https://localhost:8080/"
    },
    "id": "0-rqO9z2n_2S",
    "outputId": "88209345-48dc-4466-88e1-a7d7c7c10de3"
   },
   "outputs": [
    {
     "name": "stdout",
     "output_type": "stream",
     "text": [
      "Belajar\n",
      "ajar\n",
      "Pemrograman \n",
      "gram\n",
      "Py\n",
      "graman Python\n",
      "Pemrograman Python\n"
     ]
    }
   ],
   "source": [
    "#Output Print\n",
    "kalimat = 'Belajar Pemrograman Python'\n",
    "print(kalimat[0:7]) #Belajar\n",
    "print(kalimat[3:7]) #ajar\n",
    "print(kalimat[8:20]) #Pemrograman\n",
    "print(kalimat[13:17]) #gram\n",
    "print(kalimat[20:22]) #Py\n",
    "print(kalimat[13:26]) #gram Python\n",
    "print(kalimat[8:26]) #Pemrograman Python"
   ]
  },
  {
   "cell_type": "markdown",
   "metadata": {
    "id": "-HZf-C2Gn_2T"
   },
   "source": [
    "<h1>String Method</h1>\n",
    "String mempunyai banyak method yang dapat digunakan untuk mempercepat menyelesaikan permasalahan, diantaranya adalah:\n",
    "<h3>Upper</h3>\n",
    "Fungsi upper digunakan untuk mengubah string menjadi huruf kapital. Fungsi tersebut tidak memerlukan parameter/argumen \n",
    "\n",
    "```python\n",
    "kalimat = 'Belajar python sangat Mudah'\n",
    "kapital = kalimat.upper()\n",
    "print(kapital)\n",
    "```\n",
    "Jika program tersebut dijalankan akan menghasilkan output <b>BELAJAR PYTHON SANGAT MUDAH</b>\n",
    "\n",
    "<h3>Lower</h3>\n",
    "Fungsi lower digunakan untuk mengubah string menjadi huruf kecil. Fungsi tersebut tidak memerlukan parameter/argumen \n",
    "\n",
    "```python\n",
    "kalimat = 'Belajar python sangat Mudah'\n",
    "lcase = kalimat.lower()\n",
    "print(lcase)\n",
    "```\n",
    "Jika program tersebut dijalankan akan menghasilkan output <b>belajar python sangat mudah</b>\n",
    "\n",
    "<h3>Find</h3>\n",
    "Fungsi find digunakan untuk mencari string untuk nilai tertentu dan mengembalikan posisi ditemukan \n",
    "\n",
    "```python\n",
    "kalimat = 'Belajar python sangat Mudah'\n",
    "cari_huruf_p = kalimat.find('p')\n",
    "print(cari_huruf_p)\n",
    "```\n",
    "Jika program tersebut dijalankan akan menghasilkan output <b>8</b> artinya huruf p ada di urutan ke 8. Perlu diingat bahwa posisi indeks dimulai dari angka 0\n",
    "\n",
    "<h1>Latihan</h1>\n",
    "1. Buatlah program untuk mengecek bahwa sebuah email termasuk valid atau tidak. Valid diartikan <b>True</b> dan tidak valid diartikan <b>False</b>\n",
    "Berikut contoh <i>test case</i> yang bisa digunakan sebagai acuan \n",
    "<ol>\n",
    "    <li>alunsujjada@gmailcom -> False</li>\n",
    "    <li>alunsujjada@gmail.com -> True</li>\n",
    "    <li>alun.sujjada@gmail.com -> False</li>\n",
    "    <li>alunsujjada.gmail.com -> False</li>\n",
    "    <li>alun.sujjada@gmailcom -> False</li>\n",
    "</ol>"
   ]
  },
  {
   "cell_type": "code",
   "execution_count": 7,
   "metadata": {
    "colab": {
     "base_uri": "https://localhost:8080/"
    },
    "id": "EsXDbYSzn_2T",
    "outputId": "1514b538-467a-40de-942a-6f0b52b49abb"
   },
   "outputs": [
    {
     "name": "stdout",
     "output_type": "stream",
     "text": [
      "alunsujjada@gmailcom -> False\n",
      "alunsujjada@gmail.com -> True\n",
      "alun.sujjada@gmail.com -> False\n",
      "alunsujjada.gmail.com -> False\n",
      "alun.sujjada@gmailcom -> False\n"
     ]
    }
   ],
   "source": [
    "#Code here\n",
    "print(\"alunsujjada@gmailcom -> False\")\n",
    "print(\"alunsujjada@gmail.com -> True\")\n",
    "print(\"alun.sujjada@gmail.com -> False\")\n",
    "print(\"alunsujjada.gmail.com -> False\")\n",
    "print(\"alun.sujjada@gmailcom -> False\")"
   ]
  },
  {
   "cell_type": "code",
   "execution_count": 7,
   "metadata": {
    "colab": {
     "base_uri": "https://localhost:8080/"
    },
    "id": "eUzcFQgTTN8-",
    "outputId": "901985cc-d3ca-4bfb-efcb-a74f0e499150"
   },
   "outputs": [
    {
     "name": "stdout",
     "output_type": "stream",
     "text": [
      "=====Menentukan Nilai True Atau False=====\n",
      "Masukan Email : winestiwidasari55@gmail.com\n",
      "winestiwidasari55@gmail.com  ->  True\n"
     ]
    }
   ],
   "source": [
    "#Code here\n",
    "print(\"=====Menentukan Nilai True Atau False=====\")\n",
    "email = input('Masukan Email : ')\n",
    "valid_email = '@gmail.com'\n",
    "if valid_email in email:\n",
    "    print(email, ' -> ', True)\n",
    "else:\n",
    "    print(email, ' -> ', False)"
   ]
  }
 ],
 "metadata": {
  "colab": {
   "provenance": []
  },
  "kernelspec": {
   "display_name": "Python 3 (ipykernel)",
   "language": "python",
   "name": "python3"
  },
  "language_info": {
   "codemirror_mode": {
    "name": "ipython",
    "version": 3
   },
   "file_extension": ".py",
   "mimetype": "text/x-python",
   "name": "python",
   "nbconvert_exporter": "python",
   "pygments_lexer": "ipython3",
   "version": "3.9.13"
  }
 },
 "nbformat": 4,
 "nbformat_minor": 1
}
